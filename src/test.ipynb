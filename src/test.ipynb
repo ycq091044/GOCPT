{
 "cells": [
  {
   "cell_type": "code",
   "execution_count": 1,
   "id": "4aae3f88",
   "metadata": {},
   "outputs": [
    {
     "data": {
      "text/html": [
       "<style>.container { width:100% !important; }</style>"
      ],
      "text/plain": [
       "<IPython.core.display.HTML object>"
      ]
     },
     "metadata": {},
     "output_type": "display_data"
    }
   ],
   "source": [
    "from IPython.core.display import display, HTML\n",
    "display(HTML(\"<style>.container { width:100% !important; }</style>\"))\n",
    "import warnings\n",
    "warnings.filterwarnings('ignore')"
   ]
  },
  {
   "cell_type": "markdown",
   "id": "d28ccfd6",
   "metadata": {},
   "source": [
    "# add the path to sys path for now"
   ]
  },
  {
   "cell_type": "code",
   "execution_count": 2,
   "id": "f68cbfb8",
   "metadata": {},
   "outputs": [
    {
     "data": {
      "text/plain": [
       "<module 'GOCPT.metrics' from '/home/chaoqiy2/github/GOCPT/src/GOCPT/metrics.py'>"
      ]
     },
     "execution_count": 2,
     "metadata": {},
     "output_type": "execute_result"
    }
   ],
   "source": [
    "import sys\n",
    "sys.path.append('/home/chaoqiy2/github/GOCPT')\n",
    "from GOCPT import datasets, otf, metrics\n",
    "import numpy as np\n",
    "\n",
    "import importlib\n",
    "importlib.reload(datasets)\n",
    "importlib.reload(otf)\n",
    "importlib.reload(metrics)"
   ]
  },
  {
   "cell_type": "markdown",
   "id": "49875a54",
   "metadata": {},
   "source": [
    "# test how to load data"
   ]
  },
  {
   "cell_type": "code",
   "execution_count": 3,
   "id": "18903906",
   "metadata": {},
   "outputs": [
    {
     "name": "stdout",
     "output_type": "stream",
     "text": [
      "\n",
      "----- data tensor shape -----\n",
      "face 3d dataset: (112, 92, 400)\n",
      "GCSS dataset: (50, 422, 362)\n",
      "Indian Pines dataset: (145, 145, 200)\n"
     ]
    }
   ],
   "source": [
    "importlib.reload(datasets)\n",
    "importlib.reload(otf)\n",
    "importlib.reload(metrics)\n",
    "\n",
    "FACE_3D = datasets.face3d()\n",
    "GCSS = datasets.GCSS()\n",
    "Indian_Pines = datasets.indian_pines()\n",
    "\n",
    "print ()\n",
    "print ('----- data tensor shape -----')\n",
    "print ('face 3d dataset: {}'.format(FACE_3D.shape))\n",
    "print ('GCSS dataset: {}'.format(GCSS.shape))\n",
    "print ('Indian Pines dataset: {}'.format(Indian_Pines.shape))"
   ]
  },
  {
   "cell_type": "markdown",
   "id": "709b9c26",
   "metadata": {},
   "source": [
    "# test tensor factorization"
   ]
  },
  {
   "cell_type": "code",
   "execution_count": 4,
   "id": "13a636ca",
   "metadata": {},
   "outputs": [
    {
     "name": "stdout",
     "output_type": "stream",
     "text": [
      "----- synthetic data (no verbose) -----\n",
      "0.5024225388435456\n",
      "\n",
      "----- FACE-3D (verbose) -----\n",
      "0-th iters, PoF: 0.712730889505863, time: 0.01978921890258789s\n",
      "10-th iters, PoF: 0.7349329687933208, time: 0.019914865493774414s\n",
      "20-th iters, PoF: 0.7466910526180887, time: 0.019802570343017578s\n",
      "30-th iters, PoF: 0.7470806599677526, time: 0.01952505111694336s\n",
      "40-th iters, PoF: 0.7471961104225943, time: 0.019771814346313477s\n",
      "50-th iters, PoF: 0.7472875404759383, time: 0.019934654235839844s\n",
      "60-th iters, PoF: 0.747368270787339, time: 0.02141737937927246s\n",
      "70-th iters, PoF: 0.7474404259173735, time: 0.020020008087158203s\n",
      "80-th iters, PoF: 0.7475047366775235, time: 0.019792556762695312s\n",
      "90-th iters, PoF: 0.7475631012606689, time: 0.019984006881713867s\n",
      "0.7476131060099427\n"
     ]
    }
   ],
   "source": [
    "importlib.reload(datasets)\n",
    "importlib.reload(otf)\n",
    "importlib.reload(metrics)\n",
    "\n",
    "In = [9,10,11,12]\n",
    "X = np.random.random(In)\n",
    "print ('----- synthetic data (no verbose) -----')\n",
    "factors, pof_score = otf.cpd(X, 5, 50)\n",
    "print (metrics.PoF(X, factors))\n",
    "# otf.draw_pof(pof_score)\n",
    "print ()\n",
    "\n",
    "print ('----- FACE-3D (verbose) -----')\n",
    "X = datasets.face3d()\n",
    "factors, pof_score = otf.cpd(X, R=5, iters=100, verbose=True)\n",
    "# otf.draw_pof(pof_score)\n",
    "print (metrics.PoF(X, factors))"
   ]
  },
  {
   "cell_type": "markdown",
   "id": "93e45bbb",
   "metadata": {},
   "source": [
    "# test online tensor factorization"
   ]
  },
  {
   "cell_type": "code",
   "execution_count": 5,
   "id": "46e2e153",
   "metadata": {},
   "outputs": [
    {
     "name": "stdout",
     "output_type": "stream",
     "text": [
      "Init PoF: 0.7494437306770649\n",
      "1-th update, PoF: 0.7480987893128674, run_time: 0.0011830329895019531\n",
      "2-th update, PoF: 0.7478786539966148, run_time: 0.0010836124420166016\n",
      "3-th update, PoF: 0.7485376100958284, run_time: 0.0010788440704345703\n",
      "4-th update, PoF: 0.7471685623830041, run_time: 0.0010633468627929688\n",
      "5-th update, PoF: 0.7477990427998309, run_time: 0.0010693073272705078\n",
      "6-th update, PoF: 0.7475256630435024, run_time: 0.0010781288146972656\n",
      "7-th update, PoF: 0.7480708134757222, run_time: 0.0010895729064941406\n",
      "8-th update, PoF: 0.749171270821669, run_time: 0.0010781288146972656\n",
      "9-th update, PoF: 0.7493600506973421, run_time: 0.0010886192321777344\n",
      "10-th update, PoF: 0.7489266493656084, run_time: 0.0010733604431152344\n",
      "11-th update, PoF: 0.7490393694347844, run_time: 0.0010952949523925781\n",
      "12-th update, PoF: 0.7488564323221948, run_time: 0.0010819435119628906\n",
      "13-th update, PoF: 0.7495036198796945, run_time: 0.0010788440704345703\n",
      "14-th update, PoF: 0.749122315719809, run_time: 0.0010836124420166016\n",
      "15-th update, PoF: 0.7497229377044876, run_time: 0.001088857650756836\n",
      "16-th update, PoF: 0.7501219910673149, run_time: 0.0011014938354492188\n",
      "17-th update, PoF: 0.749752018582851, run_time: 0.0010929107666015625\n",
      "18-th update, PoF: 0.7491793215908056, run_time: 0.0010864734649658203\n",
      "19-th update, PoF: 0.7491045366876101, run_time: 0.001102447509765625\n",
      "20-th update, PoF: 0.7493589353865954, run_time: 0.0010993480682373047\n",
      "21-th update, PoF: 0.7480957705691499, run_time: 0.0011060237884521484\n",
      "22-th update, PoF: 0.7477579127997637, run_time: 0.001094818115234375\n",
      "23-th update, PoF: 0.747332687487208, run_time: 0.0011107921600341797\n",
      "24-th update, PoF: 0.7468650425720039, run_time: 0.0011096000671386719\n",
      "25-th update, PoF: 0.7466794043549241, run_time: 0.0011191368103027344\n",
      "26-th update, PoF: 0.7461207182927904, run_time: 0.0011048316955566406\n",
      "27-th update, PoF: 0.7459230637014074, run_time: 0.001125335693359375\n",
      "28-th update, PoF: 0.7461908395569143, run_time: 0.0011205673217773438\n",
      "29-th update, PoF: 0.7453831526480788, run_time: 0.001125335693359375\n",
      "30-th update, PoF: 0.7462123882424648, run_time: 0.001119852066040039\n",
      "31-th update, PoF: 0.7461230635936031, run_time: 0.001127004623413086\n",
      "32-th update, PoF: 0.7458902312883167, run_time: 0.0011315345764160156\n",
      "33-th update, PoF: 0.7462373728767997, run_time: 0.0011377334594726562\n",
      "34-th update, PoF: 0.7460955938033591, run_time: 0.0011401176452636719\n",
      "35-th update, PoF: 0.747000342918132, run_time: 0.0011539459228515625\n",
      "36-th update, PoF: 0.7478407897835171, run_time: 0.001142263412475586\n",
      "37-th update, PoF: 0.7474415506899461, run_time: 0.0011548995971679688\n",
      "38-th update, PoF: 0.7473684816476038, run_time: 0.0011432170867919922\n",
      "39-th update, PoF: 0.7472878637363854, run_time: 0.001146078109741211\n",
      "40-th update, PoF: 0.7468979897904363, run_time: 0.0011477470397949219\n",
      "41-th update, PoF: 0.7464685496631351, run_time: 0.001148223876953125\n",
      "42-th update, PoF: 0.7463682829405294, run_time: 0.0011467933654785156\n",
      "43-th update, PoF: 0.7469673106513776, run_time: 0.0011556148529052734\n",
      "44-th update, PoF: 0.7463224903872993, run_time: 0.0011491775512695312\n",
      "45-th update, PoF: 0.7464106373887618, run_time: 0.0011556148529052734\n",
      "46-th update, PoF: 0.746419228209651, run_time: 0.0011715888977050781\n",
      "47-th update, PoF: 0.7467187014061246, run_time: 0.001153707504272461\n",
      "48-th update, PoF: 0.7474188102893677, run_time: 0.001161336898803711\n",
      "49-th update, PoF: 0.7476701702144297, run_time: 0.0011692047119140625\n",
      "50-th update, PoF: 0.7473836309926497, run_time: 0.0011730194091796875\n",
      "51-th update, PoF: 0.7474190506956084, run_time: 0.0011663436889648438\n",
      "52-th update, PoF: 0.7472806399587517, run_time: 0.001169443130493164\n",
      "53-th update, PoF: 0.7473604387238959, run_time: 0.0011739730834960938\n",
      "54-th update, PoF: 0.7468932638642097, run_time: 0.0011878013610839844\n",
      "55-th update, PoF: 0.7474822114007296, run_time: 0.0011892318725585938\n",
      "56-th update, PoF: 0.7478802020155076, run_time: 0.0011794567108154297\n",
      "57-th update, PoF: 0.7478479655721142, run_time: 0.0011761188507080078\n",
      "58-th update, PoF: 0.7476225597300636, run_time: 0.001190185546875\n",
      "59-th update, PoF: 0.7476366507038215, run_time: 0.0011768341064453125\n",
      "60-th update, PoF: 0.7478588642304271, run_time: 0.0011756420135498047\n",
      "61-th update, PoF: 0.7473251774207312, run_time: 0.0011849403381347656\n",
      "62-th update, PoF: 0.7471830812425931, run_time: 0.0011799335479736328\n",
      "63-th update, PoF: 0.7469073738256444, run_time: 0.0011777877807617188\n",
      "64-th update, PoF: 0.7466203381307464, run_time: 0.0011818408966064453\n",
      "65-th update, PoF: 0.7463968119650537, run_time: 0.0011861324310302734\n",
      "66-th update, PoF: 0.7461114056059819, run_time: 0.0011796951293945312\n",
      "67-th update, PoF: 0.7460839436930948, run_time: 0.0011665821075439453\n",
      "68-th update, PoF: 0.7461566753792008, run_time: 0.001168966293334961\n",
      "69-th update, PoF: 0.7458820151340837, run_time: 0.0011909008026123047\n",
      "70-th update, PoF: 0.7464131223577817, run_time: 0.0011856555938720703\n",
      "71-th update, PoF: 0.7464046702055631, run_time: 0.0011785030364990234\n",
      "72-th update, PoF: 0.7462626733652242, run_time: 0.0011925697326660156\n",
      "73-th update, PoF: 0.7464912557133083, run_time: 0.001184225082397461\n",
      "74-th update, PoF: 0.7467857756624345, run_time: 0.0011856555938720703\n",
      "75-th update, PoF: 0.7472504923219394, run_time: 0.0011875629425048828\n",
      "76-th update, PoF: 0.7475790800901131, run_time: 0.0011951923370361328\n",
      "77-th update, PoF: 0.7473736109026354, run_time: 0.0011818408966064453\n",
      "78-th update, PoF: 0.7473187239300589, run_time: 0.0011792182922363281\n",
      "79-th update, PoF: 0.7474662440398355, run_time: 0.0011906623840332031\n",
      "80-th update, PoF: 0.7472689838718544, run_time: 0.0011861324310302734\n",
      "81-th update, PoF: 0.7468056759651567, run_time: 0.0011954307556152344\n",
      "82-th update, PoF: 0.7467778132048944, run_time: 0.0011966228485107422\n",
      "83-th update, PoF: 0.7470971360963151, run_time: 0.001188516616821289\n",
      "84-th update, PoF: 0.7468006668690879, run_time: 0.0011982917785644531\n",
      "85-th update, PoF: 0.7468640210068708, run_time: 0.001194000244140625\n",
      "86-th update, PoF: 0.7465190211174342, run_time: 0.0011856555938720703\n",
      "87-th update, PoF: 0.7467274947434412, run_time: 0.0011837482452392578\n",
      "88-th update, PoF: 0.7471614343551214, run_time: 0.0012090206146240234\n",
      "89-th update, PoF: 0.7474244429630672, run_time: 0.0012154579162597656\n",
      "90-th update, PoF: 0.7469463519407156, run_time: 0.0011970996856689453\n",
      "91-th update, PoF: 0.7470543733999853, run_time: 0.001203298568725586\n",
      "92-th update, PoF: 0.7469617863339086, run_time: 0.0012118816375732422\n",
      "93-th update, PoF: 0.7471070985117936, run_time: 0.0012085437774658203\n",
      "94-th update, PoF: 0.7469142984849599, run_time: 0.0011975765228271484\n",
      "95-th update, PoF: 0.7471131106008784, run_time: 0.0012178421020507812\n",
      "96-th update, PoF: 0.7472146690022402, run_time: 0.0012006759643554688\n",
      "97-th update, PoF: 0.7471430765673512, run_time: 0.0012123584747314453\n",
      "98-th update, PoF: 0.7468611324086605, run_time: 0.0011982917785644531\n",
      "99-th update, PoF: 0.7468612053649585, run_time: 0.0012054443359375\n",
      "100-th update, PoF: 0.7469372923688502, run_time: 0.0012052059173583984\n"
     ]
    }
   ],
   "source": [
    "importlib.reload(datasets)\n",
    "importlib.reload(otf)\n",
    "importlib.reload(metrics)\n",
    "\n",
    "# load data and initialize\n",
    "X = datasets.face3d()\n",
    "model = otf.OnlineCPD(5)\n",
    "model.initialize(X[:, :, :50])\n",
    "\n",
    "# update \n",
    "for i in range(100):\n",
    "    model.update(X[:, :, 50+i:50+i+1], True)"
   ]
  },
  {
   "cell_type": "code",
   "execution_count": null,
   "id": "bbfcbabc",
   "metadata": {},
   "outputs": [],
   "source": []
  }
 ],
 "metadata": {
  "kernelspec": {
   "display_name": "python3",
   "language": "python",
   "name": "python3"
  },
  "language_info": {
   "codemirror_mode": {
    "name": "ipython",
    "version": 3
   },
   "file_extension": ".py",
   "mimetype": "text/x-python",
   "name": "python",
   "nbconvert_exporter": "python",
   "pygments_lexer": "ipython3",
   "version": "3.7.7"
  }
 },
 "nbformat": 4,
 "nbformat_minor": 5
}
