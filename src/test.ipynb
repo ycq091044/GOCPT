{
 "cells": [
  {
   "cell_type": "code",
   "execution_count": 1,
   "id": "4aae3f88",
   "metadata": {},
   "outputs": [
    {
     "data": {
      "text/html": [
       "<style>.container { width:100% !important; }</style>"
      ],
      "text/plain": [
       "<IPython.core.display.HTML object>"
      ]
     },
     "metadata": {},
     "output_type": "display_data"
    }
   ],
   "source": [
    "from IPython.core.display import display, HTML\n",
    "display(HTML(\"<style>.container { width:100% !important; }</style>\"))\n",
    "import warnings\n",
    "warnings.filterwarnings('ignore')"
   ]
  },
  {
   "cell_type": "markdown",
   "id": "d28ccfd6",
   "metadata": {},
   "source": [
    "# add the path to sys path for now"
   ]
  },
  {
   "cell_type": "code",
   "execution_count": 2,
   "id": "f68cbfb8",
   "metadata": {},
   "outputs": [
    {
     "data": {
      "text/plain": [
       "<module 'GOCPT.metrics' from '/home/chaoqiy2/github/GOCPT/src/GOCPT/metrics.py'>"
      ]
     },
     "execution_count": 2,
     "metadata": {},
     "output_type": "execute_result"
    }
   ],
   "source": [
    "import sys\n",
    "sys.path.append('/home/chaoqiy2/github/GOCPT')\n",
    "from GOCPT import datasets, otf, metrics, utils\n",
    "import numpy as np\n",
    "\n",
    "import importlib\n",
    "importlib.reload(datasets)\n",
    "importlib.reload(otf)\n",
    "importlib.reload(utils)\n",
    "importlib.reload(metrics)"
   ]
  },
  {
   "cell_type": "markdown",
   "id": "49875a54",
   "metadata": {},
   "source": [
    "# 1. test how to load data"
   ]
  },
  {
   "cell_type": "code",
   "execution_count": 3,
   "id": "18903906",
   "metadata": {},
   "outputs": [],
   "source": [
    "# from GOCPT import datasets, otf, metrics, utils\n",
    "# importlib.reload(datasets)\n",
    "# importlib.reload(otf)\n",
    "# importlib.reload(utils)\n",
    "# importlib.reload(metrics)\n",
    "\n",
    "# FACE_3D = datasets.face3d()\n",
    "# GCSS = datasets.GCSS()\n",
    "# Indian_Pines = datasets.indian_pines()\n",
    "\n",
    "# print ()\n",
    "# print ('----- data tensor shape -----')\n",
    "# print ('face 3d dataset: {}'.format(FACE_3D.shape))\n",
    "# print ('GCSS dataset: {}'.format(GCSS.shape))\n",
    "# print ('Indian Pines dataset: {}'.format(Indian_Pines.shape))"
   ]
  },
  {
   "cell_type": "markdown",
   "id": "709b9c26",
   "metadata": {},
   "source": [
    "# 2. test common tensor factorization"
   ]
  },
  {
   "cell_type": "code",
   "execution_count": 4,
   "id": "13a636ca",
   "metadata": {},
   "outputs": [],
   "source": [
    "# from GOCPT import datasets, otf, metrics, utils\n",
    "# importlib.reload(datasets)\n",
    "# importlib.reload(otf)\n",
    "# importlib.reload(utils)\n",
    "# importlib.reload(metrics)\n",
    "\n",
    "# In = [9,10,11,12]\n",
    "# X = np.random.random(In)\n",
    "# print ('----- synthetic data (no verbose) -----')\n",
    "# factors, pof_score = otf.cpd(X, 5, 50)\n",
    "# print (metrics.PoF(X, factors))\n",
    "# # otf.draw_pof(pof_score)\n",
    "# print ()\n",
    "\n",
    "# print ('----- FACE-3D (verbose) -----')\n",
    "# X = datasets.face3d()\n",
    "# factors, pof_score = otf.cpd(X, R=5, iters=100, verbose=True)\n",
    "# # otf.draw_pof(pof_score)\n",
    "# print (metrics.PoF(X, factors))"
   ]
  },
  {
   "cell_type": "markdown",
   "id": "93e45bbb",
   "metadata": {},
   "source": [
    "# 3. test 1-dim online tensor factorization"
   ]
  },
  {
   "cell_type": "code",
   "execution_count": 26,
   "id": "46e2e153",
   "metadata": {},
   "outputs": [
    {
     "name": "stdout",
     "output_type": "stream",
     "text": [
      "Initial PoF Metric: 0.7519064166974435\n",
      "This model does not need to prepare aux!\n",
      "\n",
      "1-th update, PoF: 0.7499702320035404, run_time: 0.002306222915649414s\n",
      "2-th update, PoF: 0.7497381519591253, run_time: 0.0023043155670166016s\n",
      "3-th update, PoF: 0.7507585448583979, run_time: 0.0022733211517333984s\n",
      "4-th update, PoF: 0.7492332004149747, run_time: 0.002290964126586914s\n",
      "5-th update, PoF: 0.7497989275211441, run_time: 0.002278566360473633s\n",
      "6-th update, PoF: 0.7498086249716698, run_time: 0.002877950668334961s\n",
      "7-th update, PoF: 0.7502934029386801, run_time: 0.0022954940795898438s\n",
      "8-th update, PoF: 0.7510279774402874, run_time: 0.0023021697998046875s\n",
      "9-th update, PoF: 0.751294756165768, run_time: 0.0023488998413085938s\n",
      "10-th update, PoF: 0.7506242662523951, run_time: 0.0022628307342529297s\n",
      "11-th update, PoF: 0.7507941892304831, run_time: 0.0022983551025390625s\n",
      "12-th update, PoF: 0.7505884496066668, run_time: 0.002315044403076172s\n",
      "13-th update, PoF: 0.7511849310480953, run_time: 0.0022916793823242188s\n",
      "14-th update, PoF: 0.7511971398761981, run_time: 0.0022492408752441406s\n",
      "15-th update, PoF: 0.751754871593656, run_time: 0.002323150634765625s\n",
      "16-th update, PoF: 0.7522709254078082, run_time: 0.002299070358276367s\n",
      "17-th update, PoF: 0.7522006557437261, run_time: 0.0023086071014404297s\n",
      "18-th update, PoF: 0.7517395431803312, run_time: 0.002315521240234375s\n",
      "19-th update, PoF: 0.7515597357541522, run_time: 0.0022814273834228516s\n",
      "20-th update, PoF: 0.7518870665801819, run_time: 0.0022420883178710938s\n"
     ]
    }
   ],
   "source": [
    "from GOCPT import datasets, otf, metrics, utils\n",
    "importlib.reload(datasets)\n",
    "importlib.reload(otf)\n",
    "importlib.reload(utils)\n",
    "importlib.reload(metrics)\n",
    "\n",
    "# load data and initialize\n",
    "X = datasets.face3d()\n",
    "\n",
    "# use one of the online tensor fac model\n",
    "# model = otf.MAST(base_X=X[:, :, :50], R=5)\n",
    "# model = otf.OnlineCPD(base_X=X[:, :, :50], R=5)\n",
    "# model = otf.SDT(base_X=X[:, :, :50], R=5)\n",
    "# model = otf.RLST(base_X=X[:, :, :50], R=5)\n",
    "# model = otf.CPStream(base_X=X[:, :, :50], R=5)\n",
    "model = otf.GOCPTE(base_X=X[:, :, :50], R=5)\n",
    "\n",
    "# initialize the model using the first 50 slices\n",
    "\n",
    "# update one slice at a time\n",
    "for i in range(20):\n",
    "    model.update(X[:, :, 50+i:50+i+1], True)"
   ]
  },
  {
   "cell_type": "code",
   "execution_count": null,
   "id": "a37baa77",
   "metadata": {},
   "outputs": [],
   "source": []
  }
 ],
 "metadata": {
  "kernelspec": {
   "display_name": "python3",
   "language": "python",
   "name": "python3"
  },
  "language_info": {
   "codemirror_mode": {
    "name": "ipython",
    "version": 3
   },
   "file_extension": ".py",
   "mimetype": "text/x-python",
   "name": "python",
   "nbconvert_exporter": "python",
   "pygments_lexer": "ipython3",
   "version": "3.7.7"
  }
 },
 "nbformat": 4,
 "nbformat_minor": 5
}
