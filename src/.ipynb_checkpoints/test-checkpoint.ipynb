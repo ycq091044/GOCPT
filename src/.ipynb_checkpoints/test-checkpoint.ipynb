{
 "cells": [
  {
   "cell_type": "code",
   "execution_count": 1,
   "id": "f597b0c1",
   "metadata": {},
   "outputs": [
    {
     "data": {
      "text/html": [
       "<style>.container { width:100% !important; }</style>"
      ],
      "text/plain": [
       "<IPython.core.display.HTML object>"
      ]
     },
     "metadata": {},
     "output_type": "display_data"
    }
   ],
   "source": [
    "from IPython.core.display import display, HTML\n",
    "display(HTML(\"<style>.container { width:100% !important; }</style>\"))\n",
    "import warnings\n",
    "warnings.filterwarnings('ignore')"
   ]
  },
  {
   "cell_type": "markdown",
   "id": "5269962d",
   "metadata": {},
   "source": [
    "# add the path to sys path for now"
   ]
  },
  {
   "cell_type": "code",
   "execution_count": 2,
   "id": "2b5b7c76",
   "metadata": {},
   "outputs": [
    {
     "data": {
      "text/plain": [
       "<module 'GOCPT.metrics' from '/home/chaoqiy2/github/GOCPT/src/GOCPT/metrics.py'>"
      ]
     },
     "execution_count": 2,
     "metadata": {},
     "output_type": "execute_result"
    }
   ],
   "source": [
    "import sys\n",
    "sys.path.append('/home/chaoqiy2/github/GOCPT')\n",
    "from GOCPT import datasets, otf, metrics\n",
    "import numpy as np\n",
    "\n",
    "import importlib\n",
    "importlib.reload(datasets)\n",
    "importlib.reload(otf)\n",
    "importlib.reload(metrics)"
   ]
  },
  {
   "cell_type": "markdown",
   "id": "01c3471b",
   "metadata": {},
   "source": [
    "# test how to load data"
   ]
  },
  {
   "cell_type": "code",
   "execution_count": 8,
   "id": "ad9eca8c",
   "metadata": {},
   "outputs": [
    {
     "name": "stdout",
     "output_type": "stream",
     "text": [
      "\n",
      "----- data tensor shape -----\n",
      "face 3d dataset: (112, 92, 400)\n",
      "GCSS dataset: (50, 422, 362)\n",
      "Indian Pines dataset: (145, 145, 200)\n"
     ]
    }
   ],
   "source": [
    "importlib.reload(datasets)\n",
    "importlib.reload(otf)\n",
    "importlib.reload(metrics)\n",
    "\n",
    "FACE_3D = datasets.face3d()\n",
    "GCSS = datasets.GCSS()\n",
    "Indian_Pines = datasets.indian_pines()\n",
    "\n",
    "print ()\n",
    "print ('----- data tensor shape -----')\n",
    "print ('face 3d dataset: {}'.format(FACE_3D.shape))\n",
    "print ('GCSS dataset: {}'.format(GCSS.shape))\n",
    "print ('Indian Pines dataset: {}'.format(Indian_Pines.shape))"
   ]
  },
  {
   "cell_type": "markdown",
   "id": "2583034d",
   "metadata": {},
   "source": [
    "# test tensor factorization"
   ]
  },
  {
   "cell_type": "code",
   "execution_count": 4,
   "id": "ed33f7fc",
   "metadata": {},
   "outputs": [],
   "source": [
    "importlib.reload(datasets)\n",
    "importlib.reload(otf)\n",
    "importlib.reload(metrics)\n",
    "\n",
    "In = [9,10,11,12]\n",
    "X = np.random.random(In)\n",
    "print ('----- synthetic data (no verbose) -----')\n",
    "factors, pof_score = otf.cpd(X, 5, 50)\n",
    "print (metrics.PoF(X, factors))\n",
    "# otf.draw_pof(pof_score)\n",
    "print ()\n",
    "\n",
    "print ('----- FACE-3D (verbose) -----')\n",
    "X = datasets.face3d()\n",
    "factors, pof_score = otf.cpd(X, R=5, iters=100, verbose=True)\n",
    "# otf.draw_pof(pof_score)\n",
    "print (metrics.PoF(X, factors))"
   ]
  },
  {
   "cell_type": "markdown",
   "id": "b322a62a",
   "metadata": {},
   "source": [
    "# test online tensor factorization"
   ]
  },
  {
   "cell_type": "code",
   "execution_count": 9,
   "id": "7080b55f",
   "metadata": {},
   "outputs": [
    {
     "name": "stdout",
     "output_type": "stream",
     "text": [
      "Init PoF: 0.7489517486670243\n",
      "1-th update, PoF: 0.7472434387729381\n",
      "2-th update, PoF: 0.7470799553782006\n",
      "3-th update, PoF: 0.7478173736342912\n",
      "4-th update, PoF: 0.7463133645455359\n",
      "5-th update, PoF: 0.7469657665989098\n",
      "6-th update, PoF: 0.7465919369554572\n",
      "7-th update, PoF: 0.7469999458657421\n",
      "8-th update, PoF: 0.7479701201625994\n",
      "9-th update, PoF: 0.7480747376339796\n",
      "10-th update, PoF: 0.7475838169132106\n",
      "11-th update, PoF: 0.7477380414005523\n",
      "12-th update, PoF: 0.7474111265169352\n",
      "13-th update, PoF: 0.7480260787126775\n",
      "14-th update, PoF: 0.7477713457863109\n",
      "15-th update, PoF: 0.7483458077785704\n",
      "16-th update, PoF: 0.7488520213324024\n",
      "17-th update, PoF: 0.748358023914467\n",
      "18-th update, PoF: 0.7477587451383415\n",
      "19-th update, PoF: 0.7477129131566\n",
      "20-th update, PoF: 0.747983495122345\n",
      "21-th update, PoF: 0.7469198511626881\n",
      "22-th update, PoF: 0.7468043763127004\n",
      "23-th update, PoF: 0.7463061947583569\n",
      "24-th update, PoF: 0.7456274169962823\n",
      "25-th update, PoF: 0.7454879923672015\n",
      "26-th update, PoF: 0.7449148233430356\n",
      "27-th update, PoF: 0.7447142760743868\n",
      "28-th update, PoF: 0.7449961496250139\n",
      "29-th update, PoF: 0.7441215138696291\n",
      "30-th update, PoF: 0.7449232278731599\n",
      "31-th update, PoF: 0.7450421917409047\n",
      "32-th update, PoF: 0.7448134095839887\n",
      "33-th update, PoF: 0.745133492313948\n",
      "34-th update, PoF: 0.7450022739247445\n",
      "35-th update, PoF: 0.7459453779645748\n",
      "36-th update, PoF: 0.7467952650642833\n",
      "37-th update, PoF: 0.7463282732684382\n",
      "38-th update, PoF: 0.7463554490828083\n",
      "39-th update, PoF: 0.7464145262150973\n",
      "40-th update, PoF: 0.7459876178838929\n",
      "41-th update, PoF: 0.7454840587095156\n",
      "42-th update, PoF: 0.7454000315917666\n",
      "43-th update, PoF: 0.7459703997358378\n",
      "44-th update, PoF: 0.7452679377061756\n",
      "45-th update, PoF: 0.7453754521040874\n",
      "46-th update, PoF: 0.7453327200404407\n",
      "47-th update, PoF: 0.7456745652408583\n",
      "48-th update, PoF: 0.7463812528306941\n",
      "49-th update, PoF: 0.7466093620040435\n",
      "50-th update, PoF: 0.746298909740345\n",
      "51-th update, PoF: 0.7463528605884716\n",
      "52-th update, PoF: 0.7461804395733265\n",
      "53-th update, PoF: 0.746284714728153\n",
      "54-th update, PoF: 0.7457637461416614\n",
      "55-th update, PoF: 0.7464290100320872\n",
      "56-th update, PoF: 0.7468820712987577\n",
      "57-th update, PoF: 0.7467784372073704\n",
      "58-th update, PoF: 0.7465337946832863\n",
      "59-th update, PoF: 0.7465576881979041\n",
      "60-th update, PoF: 0.7467939252875189\n",
      "61-th update, PoF: 0.7463804703289305\n",
      "62-th update, PoF: 0.7463562699643098\n",
      "63-th update, PoF: 0.7460489432616193\n",
      "64-th update, PoF: 0.7456420651987213\n",
      "65-th update, PoF: 0.7454000510469976\n",
      "66-th update, PoF: 0.7449571316764345\n",
      "67-th update, PoF: 0.7449487770068816\n",
      "68-th update, PoF: 0.7449692801766709\n",
      "69-th update, PoF: 0.7446032975546983\n",
      "70-th update, PoF: 0.7451095720737522\n",
      "71-th update, PoF: 0.7451669438915929\n",
      "72-th update, PoF: 0.745024921149644\n",
      "73-th update, PoF: 0.7452406402659095\n",
      "74-th update, PoF: 0.7455736085670485\n",
      "75-th update, PoF: 0.7460337756865338\n",
      "76-th update, PoF: 0.7464340901419493\n",
      "77-th update, PoF: 0.7461729274250226\n",
      "78-th update, PoF: 0.7462056432319457\n",
      "79-th update, PoF: 0.7464438735062122\n",
      "80-th update, PoF: 0.7462283455695391\n",
      "81-th update, PoF: 0.7457296014616887\n",
      "82-th update, PoF: 0.7457485056758361\n",
      "83-th update, PoF: 0.7460513551959099\n",
      "84-th update, PoF: 0.7456559401210958\n",
      "85-th update, PoF: 0.74573128050173\n",
      "86-th update, PoF: 0.7452837695524704\n",
      "87-th update, PoF: 0.7455112794612737\n",
      "88-th update, PoF: 0.7459038209202816\n",
      "89-th update, PoF: 0.7462232403444065\n",
      "90-th update, PoF: 0.745703089149939\n",
      "91-th update, PoF: 0.7458747533507221\n",
      "92-th update, PoF: 0.7457363629378666\n",
      "93-th update, PoF: 0.7458589937346729\n",
      "94-th update, PoF: 0.7456254306936723\n",
      "95-th update, PoF: 0.7457163118659822\n",
      "96-th update, PoF: 0.7459313090692334\n",
      "97-th update, PoF: 0.7458026406974088\n",
      "98-th update, PoF: 0.7454591977611043\n",
      "99-th update, PoF: 0.7454532869133819\n",
      "100-th update, PoF: 0.7455183414227038\n"
     ]
    }
   ],
   "source": [
    "importlib.reload(datasets)\n",
    "importlib.reload(otf)\n",
    "importlib.reload(metrics)\n",
    "\n",
    "# load data and initialize\n",
    "X = datasets.face3d()\n",
    "model = otf.OnlineCPD(5)\n",
    "model.initialize(X[:, :, :50])\n",
    "\n",
    "# update \n",
    "for i in range(100):\n",
    "    model.update(X[:, :, 50+i:50+i+1], True)"
   ]
  },
  {
   "cell_type": "code",
   "execution_count": null,
   "id": "72f087ae",
   "metadata": {},
   "outputs": [],
   "source": []
  }
 ],
 "metadata": {
  "kernelspec": {
   "display_name": "python3",
   "language": "python",
   "name": "python3"
  },
  "language_info": {
   "codemirror_mode": {
    "name": "ipython",
    "version": 3
   },
   "file_extension": ".py",
   "mimetype": "text/x-python",
   "name": "python",
   "nbconvert_exporter": "python",
   "pygments_lexer": "ipython3",
   "version": "3.7.7"
  }
 },
 "nbformat": 4,
 "nbformat_minor": 5
}
