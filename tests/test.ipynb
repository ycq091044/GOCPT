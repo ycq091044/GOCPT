{
 "cells": [
  {
   "cell_type": "code",
   "execution_count": null,
   "id": "4aae3f88",
   "metadata": {},
   "outputs": [],
   "source": [
    "from IPython.core.display import display, HTML\n",
    "display(HTML(\"<style>.container { width:100% !important; }</style>\"))\n",
    "import warnings\n",
    "warnings.filterwarnings('ignore')"
   ]
  },
  {
   "cell_type": "markdown",
   "id": "d28ccfd6",
   "metadata": {},
   "source": [
    "# add the path to sys path for now"
   ]
  },
  {
   "cell_type": "code",
   "execution_count": null,
   "id": "f68cbfb8",
   "metadata": {},
   "outputs": [],
   "source": [
    "# import sys\n",
    "# sys.path.append('/home/chaoqiy2/github/GOCPT')\n",
    "# from GOCPT import datasets, otf, metrics, utils\n",
    "# import numpy as np\n",
    "\n",
    "# import importlib\n",
    "# importlib.reload(datasets)\n",
    "# importlib.reload(otf)\n",
    "# importlib.reload(utils)\n",
    "# importlib.reload(metrics)"
   ]
  },
  {
   "cell_type": "markdown",
   "id": "49875a54",
   "metadata": {},
   "source": [
    "# 1. test how to load data"
   ]
  },
  {
   "cell_type": "code",
   "execution_count": null,
   "id": "18903906",
   "metadata": {},
   "outputs": [],
   "source": [
    "# from GOCPT import datasets, otf, metrics, utils\n",
    "# importlib.reload(datasets)\n",
    "# importlib.reload(otf)\n",
    "# importlib.reload(utils)\n",
    "# importlib.reload(metrics)\n",
    "\n",
    "# FACE_3D = datasets.face3d()\n",
    "# GCSS = datasets.GCSS()\n",
    "# Indian_Pines = datasets.indian_pines()\n",
    "\n",
    "# print ()\n",
    "# print ('----- data tensor shape -----')\n",
    "# print ('face 3d dataset: {}'.format(FACE_3D.shape))\n",
    "# print ('GCSS dataset: {}'.format(GCSS.shape))\n",
    "# print ('Indian Pines dataset: {}'.format(Indian_Pines.shape))"
   ]
  },
  {
   "cell_type": "markdown",
   "id": "709b9c26",
   "metadata": {},
   "source": [
    "# 2. test common tensor factorization"
   ]
  },
  {
   "cell_type": "code",
   "execution_count": null,
   "id": "13a636ca",
   "metadata": {},
   "outputs": [],
   "source": [
    "# from GOCPT import datasets, otf, metrics, utils\n",
    "# importlib.reload(datasets)\n",
    "# importlib.reload(otf)\n",
    "# importlib.reload(utils)\n",
    "# importlib.reload(metrics)\n",
    "\n",
    "# In = [9,10,11,12]\n",
    "# X = np.random.random(In)\n",
    "# print ('----- synthetic data (no verbose) -----')\n",
    "# factors, pof_score = otf.cpd(X, R=5, iters=50)\n",
    "# print (metrics.PoF(X, factors))\n",
    "# # otf.draw_pof(pof_score)\n",
    "# print ()\n",
    "\n",
    "# print ('----- FACE-3D (verbose) -----')\n",
    "# X = datasets.face3d()\n",
    "# factors, pof_score = otf.cpd(X, R=5, iters=100, verbose=True)\n",
    "# # otf.draw_pof(pof_score)\n",
    "# print (metrics.PoF(X, factors))"
   ]
  },
  {
   "cell_type": "markdown",
   "id": "93e45bbb",
   "metadata": {},
   "source": [
    "# 3. test 1-dim online tensor factorization"
   ]
  },
  {
   "cell_type": "code",
   "execution_count": null,
   "id": "46e2e153",
   "metadata": {},
   "outputs": [],
   "source": [
    "# from GOCPT import datasets, otf, metrics, utils\n",
    "# importlib.reload(datasets)\n",
    "# importlib.reload(otf)\n",
    "# importlib.reload(utils)\n",
    "# importlib.reload(metrics)\n",
    "\n",
    "# # load data and initialize\n",
    "# X = datasets.syn_data(R=5, size=(10,15, 60, 100), dist='unif')\n",
    "\n",
    "# # use one of the online tensor fac model\n",
    "# # model = otf.MAST(base_X=X[..., :50], R=5, iters=100)\n",
    "# # model = otf.OnlineCPD(base_X=X[..., :50], R=5, iters=100)\n",
    "# # model = otf.SDT(base_X=X[..., :50], R=5, iters=100)\n",
    "# # model = otf.RLST(base_X=X[..., :50], R=5, iters=100)\n",
    "# # model = otf.CPStream(base_X=X[:, :, :50], R=5, iters=100)\n",
    "# model = otf.GOCPTE(base_X=X[..., :50], R=5, iters=100)\n",
    "\n",
    "# # initialize the model using the first 50 slices\n",
    "\n",
    "# # update one slice at a time\n",
    "# for i in range(20):\n",
    "#     model.update(X[..., 50+i:51+i], True)"
   ]
  },
  {
   "cell_type": "markdown",
   "id": "47e9a951",
   "metadata": {},
   "source": [
    "# 4. test common tensor completion"
   ]
  },
  {
   "cell_type": "code",
   "execution_count": null,
   "id": "eeba7977",
   "metadata": {},
   "outputs": [],
   "source": [
    "# from GOCPT import datasets, otf, otc, metrics, utils\n",
    "# importlib.reload(datasets)\n",
    "# importlib.reload(otc)\n",
    "# importlib.reload(utils)\n",
    "# importlib.reload(metrics)\n",
    "\n",
    "# # load data and initialize\n",
    "# [mask_X, mask] = datasets.syn_data(R=5, size=[9,10,11], \\\n",
    "#                       dist='unif', with_mask=0.9)\n",
    "\n",
    "# print ('----- synthetic data (no verbose) -----')\n",
    "# factors, pof_score = otc.cpc(mask, mask_X, R=5, iters=50)\n",
    "# print (metrics.PoF(mask_X, factors, mask))\n",
    "# otf.draw_pof(pof_score)\n",
    "# print ()"
   ]
  },
  {
   "cell_type": "markdown",
   "id": "ed114736",
   "metadata": {},
   "source": [
    "# 5. test 1-dim online tensor completion"
   ]
  },
  {
   "cell_type": "code",
   "execution_count": null,
   "id": "8532c764",
   "metadata": {},
   "outputs": [],
   "source": [
    "# from GOCPT import datasets, otc, metrics, utils\n",
    "# importlib.reload(datasets)\n",
    "# importlib.reload(otc)\n",
    "# importlib.reload(utils)\n",
    "# importlib.reload(metrics)\n",
    "# from GOCPT import datasets, otc, metrics, utils\n",
    "# importlib.reload(datasets)\n",
    "# importlib.reload(otc)\n",
    "# importlib.reload(utils)\n",
    "# importlib.reload(metrics)\n",
    "\n",
    "# # load data and initialize\n",
    "# [mask_X, mask] = datasets.syn_data(R=5, size=(10,15, 80), \\\n",
    "#                                    dist='unif', with_mask = 0.99)\n",
    "\n",
    "# # use one of the online tensor completion model\n",
    "# # model = otc.OnlineSGD(mask[...,:50], mask_X[...,:50], 5, iters=50)\n",
    "# model = otc.GOCPTE(mask[...,:50], mask_X[...,:50], 5, iters=50)\n",
    "\n",
    "# # initialize the model using the first 50 slices\n",
    "\n",
    "# # update one slice at a time\n",
    "# for i in range(20):\n",
    "#     model.update(mask[..., 50+i:51+i], mask_X[..., 50+i:51+i], verbose=True)"
   ]
  },
  {
   "cell_type": "markdown",
   "id": "cef707e2",
   "metadata": {},
   "source": [
    "# start to test on the real pacakge"
   ]
  },
  {
   "cell_type": "code",
   "execution_count": 35,
   "id": "2a69e588",
   "metadata": {},
   "outputs": [
    {
     "ename": "AttributeError",
     "evalue": "module 'GOCPT.datasets' has no attribute 'Face_3D'",
     "output_type": "error",
     "traceback": [
      "\u001b[0;31m---------------------------------------------------------------------------\u001b[0m",
      "\u001b[0;31mAttributeError\u001b[0m                            Traceback (most recent call last)",
      "\u001b[0;32m<ipython-input-35-7f411b7c8e71>\u001b[0m in \u001b[0;36m<module>\u001b[0;34m\u001b[0m\n\u001b[1;32m      3\u001b[0m \u001b[0;32mfrom\u001b[0m \u001b[0mGOCPT\u001b[0m \u001b[0;32mimport\u001b[0m \u001b[0mdatasets\u001b[0m\u001b[0;34m\u001b[0m\u001b[0;34m\u001b[0m\u001b[0m\n\u001b[1;32m      4\u001b[0m \u001b[0;34m\u001b[0m\u001b[0m\n\u001b[0;32m----> 5\u001b[0;31m \u001b[0mFACE_3D\u001b[0m \u001b[0;34m=\u001b[0m \u001b[0mdatasets\u001b[0m\u001b[0;34m.\u001b[0m\u001b[0mFace_3D\u001b[0m\u001b[0;34m(\u001b[0m\u001b[0;34m)\u001b[0m\u001b[0;34m\u001b[0m\u001b[0;34m\u001b[0m\u001b[0m\n\u001b[0m\u001b[1;32m      6\u001b[0m \u001b[0mGCSS\u001b[0m \u001b[0;34m=\u001b[0m \u001b[0mdataset\u001b[0m\u001b[0;34m.\u001b[0m\u001b[0mGCSS\u001b[0m\u001b[0;34m(\u001b[0m\u001b[0;34m)\u001b[0m\u001b[0;34m\u001b[0m\u001b[0;34m\u001b[0m\u001b[0m\n\u001b[1;32m      7\u001b[0m \u001b[0mJHU_COVID\u001b[0m \u001b[0;34m=\u001b[0m \u001b[0mdatasets\u001b[0m\u001b[0;34m.\u001b[0m\u001b[0mJHU_COVID\u001b[0m\u001b[0;34m(\u001b[0m\u001b[0;34m)\u001b[0m\u001b[0;34m\u001b[0m\u001b[0;34m\u001b[0m\u001b[0m\n",
      "\u001b[0;31mAttributeError\u001b[0m: module 'GOCPT.datasets' has no attribute 'Face_3D'"
     ]
    }
   ],
   "source": [
    "# load dataset\n",
    "\n",
    "from GOCPT import datasets \n",
    "\n",
    "FACE_3D = datasets.Face_3D()\n",
    "GCSS = dataset.GCSS()\n",
    "JHU_COVID = datasets.JHU_COVID()"
   ]
  },
  {
   "cell_type": "code",
   "execution_count": null,
   "id": "23d0f274",
   "metadata": {},
   "outputs": [],
   "source": []
  }
 ],
 "metadata": {
  "kernelspec": {
   "display_name": "python3",
   "language": "python",
   "name": "python3"
  },
  "language_info": {
   "codemirror_mode": {
    "name": "ipython",
    "version": 3
   },
   "file_extension": ".py",
   "mimetype": "text/x-python",
   "name": "python",
   "nbconvert_exporter": "python",
   "pygments_lexer": "ipython3",
   "version": "3.7.7"
  }
 },
 "nbformat": 4,
 "nbformat_minor": 5
}
