{
 "cells": [
  {
   "cell_type": "code",
   "execution_count": 1,
   "id": "4aae3f88",
   "metadata": {},
   "outputs": [
    {
     "data": {
      "text/html": [
       "<style>.container { width:100% !important; }</style>"
      ],
      "text/plain": [
       "<IPython.core.display.HTML object>"
      ]
     },
     "metadata": {},
     "output_type": "display_data"
    }
   ],
   "source": [
    "from IPython.core.display import display, HTML\n",
    "display(HTML(\"<style>.container { width:100% !important; }</style>\"))"
   ]
  },
  {
   "cell_type": "markdown",
   "id": "49875a54",
   "metadata": {},
   "source": [
    "# 1. generalized online tensor factorization (GOTF)"
   ]
  },
  {
   "cell_type": "markdown",
   "id": "b16898fa",
   "metadata": {},
   "source": [
    "### 1.1 data preparation"
   ]
  },
  {
   "cell_type": "code",
   "execution_count": 2,
   "id": "d1d7eba0",
   "metadata": {},
   "outputs": [
    {
     "name": "stdout",
     "output_type": "stream",
     "text": [
      "\n",
      "        ---------- new OTF setting ------------\n",
      "        base tensor size: (112, 92, 120),\n",
      "        new tensor increment size: (112, 92, 1),\n",
      "        tensor will be updated 279 times.\n",
      "        \n"
     ]
    }
   ],
   "source": [
    "from GOCPT import datasets, simulation, otf, gotf\n",
    "import numpy as np\n",
    "\n",
    "# load Columbia FACE 3D tensor\n",
    "X = datasets.FACE_3D()\n",
    "\n",
    "# simulate one mode growth (typically the last mode)\n",
    "# use 30% as preparation and increase 3 slices at each step\n",
    "[X_0, X_inc_ls] = simulation.growth_1d(X, prep=0.3, inc=1)"
   ]
  },
  {
   "cell_type": "markdown",
   "id": "0102da94",
   "metadata": {},
   "source": [
    "### 1.2 our GOCPT and GOCPTE model"
   ]
  },
  {
   "cell_type": "code",
   "execution_count": 3,
   "id": "18903906",
   "metadata": {
    "scrolled": true
   },
   "outputs": [
    {
     "name": "stdout",
     "output_type": "stream",
     "text": [
      "Initial PoF Metric: 0.7467675346834539\n",
      "This model does not need to prepare aux!\n",
      "\n",
      "1-th update Success! PoF: 0.7468, run_time: 0.08425s\n",
      "2-th update Success! PoF: 0.7473, run_time: 0.1072s\n",
      "3-th update Success! PoF: 0.7477, run_time: 0.04188s\n",
      "4-th update Success! PoF: 0.7484, run_time: 0.1095s\n",
      "5-th update Success! PoF: 0.7488, run_time: 0.04334s\n",
      "6-th update Success! PoF: 0.7488, run_time: 0.04211s\n",
      "7-th update Success! PoF: 0.7488, run_time: 0.0428s\n",
      "8-th update Success! PoF: 0.749, run_time: 0.04388s\n",
      "9-th update Success! PoF: 0.7489, run_time: 0.07901s\n",
      "10-th update Success! PoF: 0.7484, run_time: 0.04441s\n"
     ]
    }
   ],
   "source": [
    "# initialize model\n",
    "# model = gotf.GOCPTE(X_0, R=5)\n",
    "model = gotf.GOCPT(X_0, R=5)\n",
    "\n",
    "# update model with new slices, new_R can change during for-loop\n",
    "for increments in X_inc_ls[:10]:\n",
    "    new_R = np.random.choice([5,6,7,8])\n",
    "    model.update(increments, new_R=new_R)"
   ]
  },
  {
   "cell_type": "markdown",
   "id": "5c34fc0f",
   "metadata": {},
   "source": [
    "### 1.3 baseline models"
   ]
  },
  {
   "cell_type": "code",
   "execution_count": 4,
   "id": "a7488c37",
   "metadata": {},
   "outputs": [
    {
     "name": "stdout",
     "output_type": "stream",
     "text": [
      "Initial PoF Metric: 0.7472945275495273\n",
      "This model does not need to prepare aux!\n",
      "\n",
      "1-th update, PoF: 0.7472, run_time: 0.309s\n",
      "2-th update, PoF: 0.7475, run_time: 0.1346s\n",
      "3-th update, PoF: 0.7477, run_time: 0.1367s\n",
      "4-th update, PoF: 0.7482, run_time: 0.2308s\n",
      "5-th update, PoF: 0.7486, run_time: 0.2247s\n",
      "6-th update, PoF: 0.7484, run_time: 0.2241s\n",
      "7-th update, PoF: 0.7483, run_time: 0.2294s\n",
      "8-th update, PoF: 0.7485, run_time: 0.163s\n",
      "9-th update, PoF: 0.7483, run_time: 0.2337s\n",
      "10-th update, PoF: 0.7479, run_time: 0.2929s\n"
     ]
    }
   ],
   "source": [
    "# baseline models for online tensor factorization (OTF)\n",
    "\n",
    "baseline = otf.MAST(X_0, R=5)\n",
    "# baseline = otf.OnlineCPD(X_0, R=5)\n",
    "# baseline = otf.SDT(X_0, R=5)\n",
    "# baseline = otf.RLST(X_0, R=5)\n",
    "# baseline = otf.CPStream(X_0, R=5)\n",
    "\n",
    "# update model with new slices\n",
    "for increments in X_inc_ls[:10]:\n",
    "    baseline.update(increments)"
   ]
  },
  {
   "cell_type": "markdown",
   "id": "709b9c26",
   "metadata": {},
   "source": [
    "# 2. generalized online tensor completion (GOTC)"
   ]
  },
  {
   "cell_type": "markdown",
   "id": "5e535fa1",
   "metadata": {},
   "source": [
    "### 2.1 data preparation"
   ]
  },
  {
   "cell_type": "code",
   "execution_count": 5,
   "id": "23d0f274",
   "metadata": {},
   "outputs": [
    {
     "name": "stdout",
     "output_type": "stream",
     "text": [
      "\n",
      "        ---------- new OTC setting ------------\n",
      "        base tensor size: (5, 10, 15, 15),\n",
      "        new tensor increment size: (5, 10, 15, 3),\n",
      "        tensor will be updated 12 times.\n",
      "        \n"
     ]
    }
   ],
   "source": [
    "from GOCPT import datasets, simulation, otc, gotc\n",
    "import numpy as np\n",
    "\n",
    "# load synthetic data\n",
    "[masked_X, mask] = datasets.syn_data(R=5, size=(5, 10, 15, 50), dist='unif', sparsity=0.95)\n",
    "\n",
    "# simulate one mode growth (typically the last mode)\n",
    "# use 30% as preparation and increase 3 slices at each step\n",
    "[[X_0, mask_0], [X_inc_ls, mask_inc_ls]] = simulation.growth_1d([masked_X, mask], prep=0.3, inc=3)"
   ]
  },
  {
   "cell_type": "markdown",
   "id": "217897ad",
   "metadata": {},
   "source": [
    "### 2.2 Our GOCPT and GOCPTE model"
   ]
  },
  {
   "cell_type": "code",
   "execution_count": 8,
   "id": "66cc2e70",
   "metadata": {},
   "outputs": [
    {
     "name": "stdout",
     "output_type": "stream",
     "text": [
      "Initial PoF Metric: 0.8647733153804781\n",
      "This model does not need to prepare aux!\n",
      "\n",
      "number of newly updated entries: 10 / 575\n",
      "number of newly filled entries: 10 / 10675\n",
      "1-th update Success! PoF: 0.8496, run_time: 0.02193s\n",
      "\n",
      "number of newly updated entries: 10 / 695\n",
      "number of newly filled entries: 10 / 12805\n",
      "2-th update Success! PoF: 0.8572, run_time: 0.02532s\n",
      "\n",
      "number of newly updated entries: 10 / 819\n",
      "number of newly filled entries: 10 / 14931\n",
      "3-th update Success! PoF: 0.8569, run_time: 0.03279s\n",
      "\n",
      "number of newly updated entries: 10 / 929\n",
      "number of newly filled entries: 10 / 17071\n",
      "4-th update Success! PoF: 0.8446, run_time: 0.03274s\n",
      "\n",
      "number of newly updated entries: 10 / 1069\n",
      "number of newly filled entries: 10 / 19181\n",
      "5-th update Success! PoF: 0.8491, run_time: 0.03527s\n",
      "\n",
      "number of newly updated entries: 10 / 1195\n",
      "number of newly filled entries: 10 / 21305\n",
      "6-th update Success! PoF: 0.8555, run_time: 0.0689s\n",
      "\n",
      "number of newly updated entries: 10 / 1332\n",
      "number of newly filled entries: 10 / 23418\n",
      "7-th update Success! PoF: 0.8586, run_time: 0.03836s\n",
      "\n",
      "number of newly updated entries: 10 / 1440\n",
      "number of newly filled entries: 10 / 25560\n",
      "8-th update Success! PoF: 0.8702, run_time: 0.05624s\n",
      "\n",
      "number of newly updated entries: 10 / 1571\n",
      "number of newly filled entries: 10 / 27679\n",
      "9-th update Success! PoF: 0.8695, run_time: 0.03174s\n",
      "\n",
      "number of newly updated entries: 10 / 1678\n",
      "number of newly filled entries: 10 / 29822\n",
      "10-th update Success! PoF: 0.8716, run_time: 0.04686s\n",
      "\n",
      "number of newly updated entries: 10 / 1797\n",
      "number of newly filled entries: 10 / 31953\n",
      "11-th update Success! PoF: 0.8743, run_time: 0.06233s\n",
      "\n",
      "number of newly updated entries: 10 / 1927\n",
      "number of newly filled entries: 10 / 34073\n",
      "12-th update Success! PoF: 0.8755, run_time: 0.03455s\n",
      "\n"
     ]
    }
   ],
   "source": [
    "# model initialization\n",
    "# model = gotc.GOCPTE([X_0, mask_0], R=5)\n",
    "model = gotc.GOCPT([X_0, mask_0], R=5)\n",
    "\n",
    "# update model with new slices, new_R can change during for-loop\n",
    "for increments in zip(X_inc_ls, mask_inc_ls):\n",
    "    # simulate value update， missing filling，change of rank\n",
    "    new_value_update = simulation.value_update(model.X, model.mask, percent=10, amp=0.05)\n",
    "    new_missing_fill = simulation.missing_fill(model.X, model.mask, percent=10, factors=model.factors)\n",
    "    new_R = np.random.choice([5,6,7,8])\n",
    "    model.update(increments, new_R=new_R, value_update=new_value_update, miss_fill=new_missing_fill)"
   ]
  },
  {
   "cell_type": "markdown",
   "id": "86754c96",
   "metadata": {},
   "source": [
    "### 2.3 Our GOCPT and GOCPTE model"
   ]
  },
  {
   "cell_type": "code",
   "execution_count": 9,
   "id": "f01754c1",
   "metadata": {},
   "outputs": [
    {
     "name": "stdout",
     "output_type": "stream",
     "text": [
      "Initial PoF Metric: 0.8901285386728529\n",
      "This model does not need to prepare aux!\n",
      "\n",
      "1-th update, PoF: 0.8548426208435884, run_time: 0.01519465446472168s\n",
      "2-th update, PoF: 0.843109684101022, run_time: 0.018860816955566406s\n",
      "3-th update, PoF: 0.8399727843184965, run_time: 0.016878366470336914s\n",
      "4-th update, PoF: 0.829827985531642, run_time: 0.016872406005859375s\n",
      "5-th update, PoF: 0.825048417687894, run_time: 0.016789913177490234s\n",
      "6-th update, PoF: 0.8108696969276589, run_time: 0.016805171966552734s\n",
      "7-th update, PoF: 0.804390444553433, run_time: 0.016820192337036133s\n",
      "8-th update, PoF: 0.8045874667339361, run_time: 0.015585899353027344s\n",
      "9-th update, PoF: 0.8093925328909948, run_time: 0.01680469512939453s\n",
      "10-th update, PoF: 0.8106501870133198, run_time: 0.014002799987792969s\n",
      "11-th update, PoF: 0.80776765934681, run_time: 0.015578985214233398s\n",
      "12-th update, PoF: 0.80791040455736, run_time: 0.013554096221923828s\n"
     ]
    }
   ],
   "source": [
    "model = otc.OnlineSGD([X_0, mask_0], R=5)\n",
    "\n",
    "for increments in zip(X_inc_ls, mask_inc_ls):\n",
    "    model.update(increments)"
   ]
  },
  {
   "cell_type": "code",
   "execution_count": null,
   "id": "1526eccc",
   "metadata": {},
   "outputs": [],
   "source": []
  }
 ],
 "metadata": {
  "kernelspec": {
   "display_name": "python3",
   "language": "python",
   "name": "python3"
  },
  "language_info": {
   "codemirror_mode": {
    "name": "ipython",
    "version": 3
   },
   "file_extension": ".py",
   "mimetype": "text/x-python",
   "name": "python",
   "nbconvert_exporter": "python",
   "pygments_lexer": "ipython3",
   "version": "3.7.7"
  }
 },
 "nbformat": 4,
 "nbformat_minor": 5
}
