{
 "cells": [
  {
   "cell_type": "code",
   "execution_count": 1,
   "id": "4aae3f88",
   "metadata": {},
   "outputs": [
    {
     "data": {
      "text/html": [
       "<style>.container { width:100% !important; }</style>"
      ],
      "text/plain": [
       "<IPython.core.display.HTML object>"
      ]
     },
     "metadata": {},
     "output_type": "display_data"
    }
   ],
   "source": [
    "from IPython.core.display import display, HTML\n",
    "display(HTML(\"<style>.container { width:100% !important; }</style>\"))"
   ]
  },
  {
   "cell_type": "markdown",
   "id": "49875a54",
   "metadata": {},
   "source": [
    "# 1. generalized online tensor factorization (GOTF)"
   ]
  },
  {
   "cell_type": "markdown",
   "id": "b16898fa",
   "metadata": {},
   "source": [
    "### 1.1 data preparation"
   ]
  },
  {
   "cell_type": "code",
   "execution_count": 15,
   "id": "d1d7eba0",
   "metadata": {},
   "outputs": [
    {
     "name": "stdout",
     "output_type": "stream",
     "text": [
      "\n",
      "        ---------- new OTF setting ------------\n",
      "        base tensor size: (112, 92, 120),\n",
      "        new tensor increment size: (112, 92, 1),\n",
      "        tensor will be updated 279 times.\n",
      "        \n"
     ]
    }
   ],
   "source": [
    "from GOCPT import datasets, simulation, otf, gotf\n",
    "import numpy as np\n",
    "\n",
    "# load Columbia FACE 3D tensor\n",
    "X = datasets.FACE_3D()\n",
    "\n",
    "# simulate one mode growth (typically the last mode)\n",
    "# use 30% as preparation and increase 3 slices at each step\n",
    "[X_0, X_inc_ls] = simulation.growth_1d(X, prep=0.3, inc=1)"
   ]
  },
  {
   "cell_type": "markdown",
   "id": "0102da94",
   "metadata": {},
   "source": [
    "### 1.2 our GOCPT and GOCPTE model"
   ]
  },
  {
   "cell_type": "code",
   "execution_count": 16,
   "id": "18903906",
   "metadata": {
    "scrolled": true
   },
   "outputs": [
    {
     "name": "stdout",
     "output_type": "stream",
     "text": [
      "Initial PoF Metric: 0.7471367150994004\n",
      "This model does not need to prepare aux!\n",
      "\n",
      "1-th update Success! PoF: 0.747, run_time: 0.005804s\n",
      "2-th update Success! PoF: 0.7473, run_time: 0.01592s\n",
      "3-th update Success! PoF: 0.7474, run_time: 0.005861s\n",
      "4-th update Success! PoF: 0.7479, run_time: 0.005744s\n",
      "5-th update Success! PoF: 0.7482, run_time: 0.01652s\n",
      "6-th update Success! PoF: 0.748, run_time: 0.005734s\n",
      "7-th update Success! PoF: 0.7479, run_time: 0.005741s\n",
      "8-th update Success! PoF: 0.748, run_time: 0.005725s\n",
      "9-th update Success! PoF: 0.7478, run_time: 0.01681s\n",
      "10-th update Success! PoF: 0.7473, run_time: 0.005657s\n"
     ]
    }
   ],
   "source": [
    "# initialize model\n",
    "model = gotf.GOCPTE(X_0, R=5)\n",
    "# model = gotf.GOCPT(X_0, R=5)\n",
    "\n",
    "# update model with new slices, new_R can change during for-loop\n",
    "for increments in X_inc_ls[:10]:\n",
    "    new_R = np.random.choice([5,6,7,8])\n",
    "    model.update(increments, new_R=new_R)"
   ]
  },
  {
   "cell_type": "markdown",
   "id": "5c34fc0f",
   "metadata": {},
   "source": [
    "### 1.3 baseline models"
   ]
  },
  {
   "cell_type": "code",
   "execution_count": 13,
   "id": "a7488c37",
   "metadata": {},
   "outputs": [
    {
     "name": "stdout",
     "output_type": "stream",
     "text": [
      "Initial PoF Metric: 0.7470695791372648\n",
      "This model does not need to prepare aux!\n",
      "\n",
      "1-th update, PoF: 0.7471, run_time: 0.1365s\n",
      "2-th update, PoF: 0.7473, run_time: 0.1039s\n",
      "3-th update, PoF: 0.7476, run_time: 0.1382s\n",
      "4-th update, PoF: 0.748, run_time: 0.1401s\n",
      "5-th update, PoF: 0.7483, run_time: 0.1395s\n",
      "6-th update, PoF: 0.748, run_time: 0.1405s\n",
      "7-th update, PoF: 0.7478, run_time: 0.1409s\n",
      "8-th update, PoF: 0.7479, run_time: 0.0802s\n",
      "9-th update, PoF: 0.7477, run_time: 0.1415s\n",
      "10-th update, PoF: 0.7473, run_time: 0.1463s\n"
     ]
    }
   ],
   "source": [
    "# baseline models for online tensor factorization (OTF)\n",
    "\n",
    "baseline = otf.MAST(X_0, R=5)\n",
    "# baseline = otf.OnlineCPD(X_0, R=5)\n",
    "# baseline = otf.SDT(X_0, R=5)\n",
    "# baseline = otf.RLST(X_0, R=5)\n",
    "# baseline = otf.CPStream(X_0, R=5)\n",
    "\n",
    "# update model with new slices\n",
    "for increments in X_inc_ls[:10]:\n",
    "    baseline.update(increments)"
   ]
  },
  {
   "cell_type": "markdown",
   "id": "709b9c26",
   "metadata": {},
   "source": [
    "# 2. generalized online tensor completion (GOTC)"
   ]
  },
  {
   "cell_type": "markdown",
   "id": "5e535fa1",
   "metadata": {},
   "source": [
    "### 2.1 data preparation"
   ]
  },
  {
   "cell_type": "code",
   "execution_count": 27,
   "id": "23d0f274",
   "metadata": {},
   "outputs": [
    {
     "name": "stdout",
     "output_type": "stream",
     "text": [
      "\n",
      "        ---------- new OTC setting ------------\n",
      "        base tensor size: (5, 10, 15, 15),\n",
      "        new tensor increment size: (5, 10, 15, 3),\n",
      "        tensor will be updated 12 times.\n",
      "        \n"
     ]
    }
   ],
   "source": [
    "from GOCPT import datasets, simulation, otc, gotc\n",
    "import numpy as np\n",
    "\n",
    "# load synthetic data\n",
    "[masked_X, mask] = datasets.syn_data(R=5, size=(5, 10, 15, 50), dist='unif', sparsity=0.95)\n",
    "\n",
    "# simulate one mode growth (typically the last mode)\n",
    "# use 30% as preparation and increase 3 slices at each step\n",
    "[[X_0, mask_0], [X_inc_ls, mask_inc_ls]] = simulation.growth_1d([masked_X, mask], prep=0.3, inc=3)"
   ]
  },
  {
   "cell_type": "markdown",
   "id": "217897ad",
   "metadata": {},
   "source": [
    "### 2.2 Our GOCPT and GOCPTE model"
   ]
  },
  {
   "cell_type": "code",
   "execution_count": 28,
   "id": "66cc2e70",
   "metadata": {},
   "outputs": [
    {
     "name": "stdout",
     "output_type": "stream",
     "text": [
      "Initial PoF Metric: 0.9390867904915358\n",
      "This model does not need to prepare aux!\n",
      "\n",
      "number of newly updated entries: 10 / 572\n",
      "number of newly filled entries: 10 / 10678\n",
      "1-th update Success! PoF: 0.9323, run_time: 0.009394s\n",
      "\n",
      "number of newly updated entries: 10 / 697\n",
      "number of newly filled entries: 10 / 12803\n",
      "2-th update Success! PoF: 0.9266, run_time: 0.009832s\n",
      "\n",
      "number of newly updated entries: 10 / 844\n",
      "number of newly filled entries: 10 / 14906\n",
      "3-th update Success! PoF: 0.9235, run_time: 0.01003s\n",
      "\n",
      "number of newly updated entries: 10 / 971\n",
      "number of newly filled entries: 10 / 17029\n",
      "4-th update Success! PoF: 0.9236, run_time: 0.01317s\n",
      "\n",
      "number of newly updated entries: 10 / 1086\n",
      "number of newly filled entries: 10 / 19164\n",
      "5-th update Success! PoF: 0.9191, run_time: 0.02472s\n",
      "\n",
      "number of newly updated entries: 10 / 1217\n",
      "number of newly filled entries: 10 / 21283\n",
      "6-th update Success! PoF: 0.9219, run_time: 0.02892s\n",
      "\n",
      "number of newly updated entries: 10 / 1342\n",
      "number of newly filled entries: 10 / 23408\n",
      "7-th update Success! PoF: 0.9229, run_time: 0.01162s\n",
      "\n",
      "number of newly updated entries: 10 / 1467\n",
      "number of newly filled entries: 10 / 25533\n",
      "8-th update Success! PoF: 0.9189, run_time: 0.01336s\n",
      "\n",
      "number of newly updated entries: 10 / 1576\n",
      "number of newly filled entries: 10 / 27674\n",
      "9-th update Success! PoF: 0.9191, run_time: 0.01642s\n",
      "\n",
      "number of newly updated entries: 10 / 1696\n",
      "number of newly filled entries: 10 / 29804\n",
      "10-th update Success! PoF: 0.919, run_time: 0.01252s\n",
      "\n",
      "number of newly updated entries: 10 / 1830\n",
      "number of newly filled entries: 10 / 31920\n",
      "11-th update Success! PoF: 0.9165, run_time: 0.01272s\n",
      "\n",
      "number of newly updated entries: 10 / 1983\n",
      "number of newly filled entries: 10 / 34017\n",
      "12-th update Success! PoF: 0.9183, run_time: 0.01547s\n",
      "\n"
     ]
    }
   ],
   "source": [
    "# model initialization\n",
    "# model = gotc.GOCPTE([X_0, mask_0], R=5)\n",
    "model = gotc.GOCPT([X_0, mask_0], R=5)\n",
    "\n",
    "# update model with new slices, new_R can change during for-loop\n",
    "for increments in zip(X_inc_ls, mask_inc_ls):\n",
    "    # simulate value update， missing filling，change of rank\n",
    "    new_value_update = simulation.value_update(model.X, model.mask, percent=10, amp=0.05)\n",
    "    new_missing_fill = simulation.missing_fill(model.X, model.mask, percent=10, factors=model.factors)\n",
    "    new_R = np.random.choice([5,6,7,8])\n",
    "    model.update(increments, new_R=new_R, value_update=new_value_update, miss_fill=new_missing_fill)"
   ]
  },
  {
   "cell_type": "markdown",
   "id": "86754c96",
   "metadata": {},
   "source": [
    "### 2.3 Our GOCPT and GOCPTE model"
   ]
  },
  {
   "cell_type": "code",
   "execution_count": 29,
   "id": "f01754c1",
   "metadata": {},
   "outputs": [
    {
     "name": "stdout",
     "output_type": "stream",
     "text": [
      "Initial PoF Metric: 0.9112019640840954\n",
      "This model does not need to prepare aux!\n",
      "\n"
     ]
    },
    {
     "ename": "ValueError",
     "evalue": "Size of label 'd' for operand 3 (3) does not match previous terms (15).",
     "output_type": "error",
     "traceback": [
      "\u001b[0;31m---------------------------------------------------------------------------\u001b[0m",
      "\u001b[0;31mValueError\u001b[0m                                Traceback (most recent call last)",
      "\u001b[0;32m<ipython-input-29-1df46d645845>\u001b[0m in \u001b[0;36m<module>\u001b[0;34m\u001b[0m\n\u001b[1;32m      2\u001b[0m \u001b[0;34m\u001b[0m\u001b[0m\n\u001b[1;32m      3\u001b[0m \u001b[0;32mfor\u001b[0m \u001b[0mincrements\u001b[0m \u001b[0;32min\u001b[0m \u001b[0mzip\u001b[0m\u001b[0;34m(\u001b[0m\u001b[0mX_inc_ls\u001b[0m\u001b[0;34m,\u001b[0m \u001b[0mmask_inc_ls\u001b[0m\u001b[0;34m)\u001b[0m\u001b[0;34m:\u001b[0m\u001b[0;34m\u001b[0m\u001b[0;34m\u001b[0m\u001b[0m\n\u001b[0;32m----> 4\u001b[0;31m     \u001b[0mmodel\u001b[0m\u001b[0;34m.\u001b[0m\u001b[0mupdate\u001b[0m\u001b[0;34m(\u001b[0m\u001b[0mincrements\u001b[0m\u001b[0;34m)\u001b[0m\u001b[0;34m\u001b[0m\u001b[0;34m\u001b[0m\u001b[0m\n\u001b[0m",
      "\u001b[0;32m~/miniconda3/envs/chaoqi/lib/python3.7/site-packages/GOCPT/otc.py\u001b[0m in \u001b[0;36mupdate\u001b[0;34m(self, increment, lr, index, iters, verbose)\u001b[0m\n\u001b[1;32m    100\u001b[0m         \u001b[0mself\u001b[0m\u001b[0;34m.\u001b[0m\u001b[0mcollect_X_and_mask\u001b[0m\u001b[0;34m(\u001b[0m\u001b[0mmask_X\u001b[0m\u001b[0;34m,\u001b[0m \u001b[0mmask\u001b[0m\u001b[0;34m)\u001b[0m\u001b[0;34m\u001b[0m\u001b[0;34m\u001b[0m\u001b[0m\n\u001b[1;32m    101\u001b[0m \u001b[0;34m\u001b[0m\u001b[0m\n\u001b[0;32m--> 102\u001b[0;31m         \u001b[0mself\u001b[0m\u001b[0;34m.\u001b[0m\u001b[0mfactors\u001b[0m\u001b[0;34m,\u001b[0m \u001b[0mrun_time\u001b[0m \u001b[0;34m=\u001b[0m \u001b[0mOnlineSGD_update\u001b[0m\u001b[0;34m(\u001b[0m\u001b[0;34m[\u001b[0m\u001b[0mmask_X\u001b[0m\u001b[0;34m,\u001b[0m \u001b[0mmask\u001b[0m\u001b[0;34m]\u001b[0m\u001b[0;34m,\u001b[0m \u001b[0mself\u001b[0m\u001b[0;34m.\u001b[0m\u001b[0mfactors\u001b[0m\u001b[0;34m,\u001b[0m \u001b[0mlr\u001b[0m\u001b[0;34m,\u001b[0m \u001b[0mindex\u001b[0m\u001b[0;34m,\u001b[0m \u001b[0miters\u001b[0m\u001b[0;34m)\u001b[0m\u001b[0;34m\u001b[0m\u001b[0;34m\u001b[0m\u001b[0m\n\u001b[0m\u001b[1;32m    103\u001b[0m         \u001b[0mpof_score\u001b[0m \u001b[0;34m=\u001b[0m \u001b[0mPoF\u001b[0m\u001b[0;34m(\u001b[0m\u001b[0mself\u001b[0m\u001b[0;34m.\u001b[0m\u001b[0mX\u001b[0m\u001b[0;34m,\u001b[0m \u001b[0mself\u001b[0m\u001b[0;34m.\u001b[0m\u001b[0mfactors\u001b[0m\u001b[0;34m,\u001b[0m \u001b[0mself\u001b[0m\u001b[0;34m.\u001b[0m\u001b[0mmask\u001b[0m\u001b[0;34m)\u001b[0m\u001b[0;34m\u001b[0m\u001b[0;34m\u001b[0m\u001b[0m\n\u001b[1;32m    104\u001b[0m         \u001b[0;32mif\u001b[0m \u001b[0mverbose\u001b[0m\u001b[0;34m:\u001b[0m\u001b[0;34m\u001b[0m\u001b[0;34m\u001b[0m\u001b[0m\n",
      "\u001b[0;32m~/miniconda3/envs/chaoqi/lib/python3.7/site-packages/GOCPT/utils.py\u001b[0m in \u001b[0;36mOnlineSGD_update\u001b[0;34m(update, factors, lr, index, iters, reg)\u001b[0m\n\u001b[1;32m    729\u001b[0m         \u001b[0mgrad\u001b[0m \u001b[0;34m=\u001b[0m \u001b[0;34m[\u001b[0m\u001b[0;34m]\u001b[0m\u001b[0;34m\u001b[0m\u001b[0;34m\u001b[0m\u001b[0m\n\u001b[1;32m    730\u001b[0m         \u001b[0;32mfor\u001b[0m \u001b[0mi\u001b[0m \u001b[0;32min\u001b[0m \u001b[0mrange\u001b[0m\u001b[0;34m(\u001b[0m\u001b[0mmask\u001b[0m\u001b[0;34m.\u001b[0m\u001b[0mndim\u001b[0m \u001b[0;34m-\u001b[0m \u001b[0;36m1\u001b[0m\u001b[0;34m)\u001b[0m\u001b[0;34m:\u001b[0m\u001b[0;34m\u001b[0m\u001b[0;34m\u001b[0m\u001b[0m\n\u001b[0;32m--> 731\u001b[0;31m             \u001b[0mlhs\u001b[0m\u001b[0;34m,\u001b[0m \u001b[0mrhs\u001b[0m \u001b[0;34m=\u001b[0m \u001b[0mget_lhs_rhs_from_tensor\u001b[0m\u001b[0;34m(\u001b[0m\u001b[0mmask_X\u001b[0m \u001b[0;34m-\u001b[0m \u001b[0mmask\u001b[0m \u001b[0;34m*\u001b[0m \u001b[0mrec_X\u001b[0m\u001b[0;34m,\u001b[0m \u001b[0mfactors\u001b[0m\u001b[0;34m,\u001b[0m \u001b[0mi\u001b[0m\u001b[0;34m)\u001b[0m\u001b[0;34m\u001b[0m\u001b[0;34m\u001b[0m\u001b[0m\n\u001b[0m\u001b[1;32m    732\u001b[0m             \u001b[0mgrad\u001b[0m\u001b[0;34m.\u001b[0m\u001b[0mappend\u001b[0m\u001b[0;34m(\u001b[0m\u001b[0moptimize\u001b[0m\u001b[0;34m(\u001b[0m\u001b[0mlhs\u001b[0m\u001b[0;34m,\u001b[0m \u001b[0mrhs\u001b[0m\u001b[0;34m)\u001b[0m\u001b[0;34m.\u001b[0m\u001b[0mT\u001b[0m\u001b[0;34m)\u001b[0m\u001b[0;34m\u001b[0m\u001b[0;34m\u001b[0m\u001b[0m\n\u001b[1;32m    733\u001b[0m \u001b[0;34m\u001b[0m\u001b[0m\n",
      "\u001b[0;32m~/miniconda3/envs/chaoqi/lib/python3.7/site-packages/GOCPT/utils.py\u001b[0m in \u001b[0;36mget_lhs_rhs_from_tensor\u001b[0;34m(X, factors, i)\u001b[0m\n\u001b[1;32m    189\u001b[0m     \u001b[0mrhs_str\u001b[0m \u001b[0;34m+=\u001b[0m \u001b[0;34m'->r{}'\u001b[0m\u001b[0;34m.\u001b[0m\u001b[0mformat\u001b[0m\u001b[0;34m(\u001b[0m\u001b[0mchr\u001b[0m\u001b[0;34m(\u001b[0m\u001b[0mi\u001b[0m\u001b[0;34m+\u001b[0m\u001b[0;36m97\u001b[0m\u001b[0;34m)\u001b[0m\u001b[0;34m)\u001b[0m\u001b[0;34m\u001b[0m\u001b[0;34m\u001b[0m\u001b[0m\n\u001b[1;32m    190\u001b[0m     \u001b[0mlhs\u001b[0m \u001b[0;34m=\u001b[0m \u001b[0mnp\u001b[0m\u001b[0;34m.\u001b[0m\u001b[0meinsum\u001b[0m\u001b[0;34m(\u001b[0m\u001b[0mlhs_str\u001b[0m\u001b[0;34m,\u001b[0m\u001b[0;34m*\u001b[0m\u001b[0mlhs_mat\u001b[0m\u001b[0;34m,\u001b[0m\u001b[0moptimize\u001b[0m\u001b[0;34m=\u001b[0m\u001b[0;32mTrue\u001b[0m\u001b[0;34m)\u001b[0m\u001b[0;34m\u001b[0m\u001b[0;34m\u001b[0m\u001b[0m\n\u001b[0;32m--> 191\u001b[0;31m     \u001b[0mrhs\u001b[0m \u001b[0;34m=\u001b[0m \u001b[0mnp\u001b[0m\u001b[0;34m.\u001b[0m\u001b[0meinsum\u001b[0m\u001b[0;34m(\u001b[0m\u001b[0mrhs_str\u001b[0m\u001b[0;34m,\u001b[0m\u001b[0;34m*\u001b[0m\u001b[0mrhs_mat\u001b[0m\u001b[0;34m,\u001b[0m\u001b[0moptimize\u001b[0m\u001b[0;34m=\u001b[0m\u001b[0;32mTrue\u001b[0m\u001b[0;34m)\u001b[0m\u001b[0;34m\u001b[0m\u001b[0;34m\u001b[0m\u001b[0m\n\u001b[0m\u001b[1;32m    192\u001b[0m     \u001b[0;32mreturn\u001b[0m \u001b[0mlhs\u001b[0m\u001b[0;34m,\u001b[0m \u001b[0mrhs\u001b[0m\u001b[0;34m\u001b[0m\u001b[0;34m\u001b[0m\u001b[0m\n\u001b[1;32m    193\u001b[0m \u001b[0;34m\u001b[0m\u001b[0m\n",
      "\u001b[0;32m~/miniconda3/envs/chaoqi/lib/python3.7/site-packages/numpy/core/einsumfunc.py\u001b[0m in \u001b[0;36meinsum\u001b[0;34m(*operands, **kwargs)\u001b[0m\n\u001b[1;32m   1090\u001b[0m     \u001b[0;31m# Build the contraction list and operand\u001b[0m\u001b[0;34m\u001b[0m\u001b[0;34m\u001b[0m\u001b[0;34m\u001b[0m\u001b[0m\n\u001b[1;32m   1091\u001b[0m     operands, contraction_list = einsum_path(*operands, optimize=optimize_arg,\n\u001b[0;32m-> 1092\u001b[0;31m                                              einsum_call=True)\n\u001b[0m\u001b[1;32m   1093\u001b[0m \u001b[0;34m\u001b[0m\u001b[0m\n\u001b[1;32m   1094\u001b[0m     \u001b[0mhandle_out\u001b[0m \u001b[0;34m=\u001b[0m \u001b[0;32mFalse\u001b[0m\u001b[0;34m\u001b[0m\u001b[0;34m\u001b[0m\u001b[0m\n",
      "\u001b[0;32m~/miniconda3/envs/chaoqi/lib/python3.7/site-packages/numpy/core/einsumfunc.py\u001b[0m in \u001b[0;36meinsum_path\u001b[0;34m(*operands, **kwargs)\u001b[0m\n\u001b[1;32m    713\u001b[0m                     raise ValueError(\"Size of label '%s' for operand %d (%d) \"\n\u001b[1;32m    714\u001b[0m                                      \u001b[0;34m\"does not match previous terms (%d).\"\u001b[0m\u001b[0;34m\u001b[0m\u001b[0;34m\u001b[0m\u001b[0m\n\u001b[0;32m--> 715\u001b[0;31m                                      % (char, tnum, dimension_dict[char], dim))\n\u001b[0m\u001b[1;32m    716\u001b[0m             \u001b[0;32melse\u001b[0m\u001b[0;34m:\u001b[0m\u001b[0;34m\u001b[0m\u001b[0;34m\u001b[0m\u001b[0m\n\u001b[1;32m    717\u001b[0m                 \u001b[0mdimension_dict\u001b[0m\u001b[0;34m[\u001b[0m\u001b[0mchar\u001b[0m\u001b[0;34m]\u001b[0m \u001b[0;34m=\u001b[0m \u001b[0mdim\u001b[0m\u001b[0;34m\u001b[0m\u001b[0;34m\u001b[0m\u001b[0m\n",
      "\u001b[0;31mValueError\u001b[0m: Size of label 'd' for operand 3 (3) does not match previous terms (15)."
     ]
    }
   ],
   "source": [
    "model = otc.OnlineSGD([X_0, mask_0], R=5)\n",
    "\n",
    "for increments in zip(X_inc_ls, mask_inc_ls):\n",
    "    model.update(increments)"
   ]
  },
  {
   "cell_type": "code",
   "execution_count": null,
   "id": "1526eccc",
   "metadata": {},
   "outputs": [],
   "source": []
  }
 ],
 "metadata": {
  "kernelspec": {
   "display_name": "python3",
   "language": "python",
   "name": "python3"
  },
  "language_info": {
   "codemirror_mode": {
    "name": "ipython",
    "version": 3
   },
   "file_extension": ".py",
   "mimetype": "text/x-python",
   "name": "python",
   "nbconvert_exporter": "python",
   "pygments_lexer": "ipython3",
   "version": "3.7.7"
  }
 },
 "nbformat": 4,
 "nbformat_minor": 5
}
